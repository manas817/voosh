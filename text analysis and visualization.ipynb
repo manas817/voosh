{
 "cells": [
  {
   "cell_type": "markdown",
   "id": "national-underwear",
   "metadata": {},
   "source": [
    "## 2. Data Analysis"
   ]
  },
  {
   "cell_type": "code",
   "execution_count": 1,
   "id": "sharp-astrology",
   "metadata": {},
   "outputs": [],
   "source": [
    "import pandas as pd\n",
    "import numpy as np\n",
    "import matplotlib as plt"
   ]
  },
  {
   "cell_type": "code",
   "execution_count": 2,
   "id": "superb-rochester",
   "metadata": {},
   "outputs": [
    {
     "data": {
      "text/html": [
       "<div>\n",
       "<style scoped>\n",
       "    .dataframe tbody tr th:only-of-type {\n",
       "        vertical-align: middle;\n",
       "    }\n",
       "\n",
       "    .dataframe tbody tr th {\n",
       "        vertical-align: top;\n",
       "    }\n",
       "\n",
       "    .dataframe thead th {\n",
       "        text-align: right;\n",
       "    }\n",
       "</style>\n",
       "<table border=\"1\" class=\"dataframe\">\n",
       "  <thead>\n",
       "    <tr style=\"text-align: right;\">\n",
       "      <th></th>\n",
       "      <th>Unnamed: 0</th>\n",
       "      <th>NAME</th>\n",
       "      <th>PRICE</th>\n",
       "      <th>DESCRIPTION</th>\n",
       "      <th>MUST_TRY_TAG</th>\n",
       "    </tr>\n",
       "  </thead>\n",
       "  <tbody>\n",
       "    <tr>\n",
       "      <th>0</th>\n",
       "      <td>0</td>\n",
       "      <td>Paneer Massala</td>\n",
       "      <td>132</td>\n",
       "      <td>Fresh paneer tossed in vooshified onion tomato...</td>\n",
       "      <td>NaN</td>\n",
       "    </tr>\n",
       "    <tr>\n",
       "      <th>1</th>\n",
       "      <td>1</td>\n",
       "      <td>Homely Bhindi Masala Thali with Sweet</td>\n",
       "      <td>144</td>\n",
       "      <td>Enjoy a delicious meal with  bhindi masala,  d...</td>\n",
       "      <td>MUST TRY</td>\n",
       "    </tr>\n",
       "    <tr>\n",
       "      <th>2</th>\n",
       "      <td>2</td>\n",
       "      <td>Set of Chapatis (4 - Chapatis)</td>\n",
       "      <td>79</td>\n",
       "      <td>Wheat chapattis - soft, fluffy and cooked to p...</td>\n",
       "      <td>MUST TRY</td>\n",
       "    </tr>\n",
       "    <tr>\n",
       "      <th>3</th>\n",
       "      <td>3</td>\n",
       "      <td>Voosh Paneer Premium Thali with Sweet, Butter ...</td>\n",
       "      <td>209</td>\n",
       "      <td>Enjoy a wholesome thali meal with paneer masal...</td>\n",
       "      <td>MUST TRY</td>\n",
       "    </tr>\n",
       "    <tr>\n",
       "      <th>4</th>\n",
       "      <td>4</td>\n",
       "      <td>Homely Dal Tadka Thali with Sweet</td>\n",
       "      <td>144</td>\n",
       "      <td>Enjoy a delicious meal with dal tadka, dry veg...</td>\n",
       "      <td>MUST TRY</td>\n",
       "    </tr>\n",
       "  </tbody>\n",
       "</table>\n",
       "</div>"
      ],
      "text/plain": [
       "   Unnamed: 0                                               NAME  PRICE  \\\n",
       "0           0                                     Paneer Massala    132   \n",
       "1           1              Homely Bhindi Masala Thali with Sweet    144   \n",
       "2           2                     Set of Chapatis (4 - Chapatis)     79   \n",
       "3           3  Voosh Paneer Premium Thali with Sweet, Butter ...    209   \n",
       "4           4                  Homely Dal Tadka Thali with Sweet    144   \n",
       "\n",
       "                                         DESCRIPTION MUST_TRY_TAG  \n",
       "0  Fresh paneer tossed in vooshified onion tomato...          NaN  \n",
       "1  Enjoy a delicious meal with  bhindi masala,  d...     MUST TRY  \n",
       "2  Wheat chapattis - soft, fluffy and cooked to p...     MUST TRY  \n",
       "3  Enjoy a wholesome thali meal with paneer masal...     MUST TRY  \n",
       "4  Enjoy a delicious meal with dal tadka, dry veg...     MUST TRY  "
      ]
     },
     "execution_count": 2,
     "metadata": {},
     "output_type": "execute_result"
    }
   ],
   "source": [
    "data = pd.read_csv(\"foods_data.csv\")\n",
    "data.head()"
   ]
  },
  {
   "cell_type": "code",
   "execution_count": 3,
   "id": "waiting-organization",
   "metadata": {},
   "outputs": [
    {
     "data": {
      "text/plain": [
       "array(['Fresh paneer tossed in vooshified onion tomato gravy with rich Indian spices and ... read more',\n",
       "       'Enjoy a delicious meal with  bhindi masala,  dal tadka, 2 phulkas, ... read more',\n",
       "       'Wheat chapattis - soft, fluffy and cooked to perfection.',\n",
       "       'Enjoy a wholesome thali meal with paneer masala, dry veggie of the day, ... read more',\n",
       "       'Enjoy a delicious meal with dal tadka, dry veggie of the day, 2 ... read more',\n",
       "       'Enjoy a delicious meal with aloo gobhi, dal tadka, 2 phulkas, rice, sweet. ... read more',\n",
       "       'Enjoy a delicious meal with paneer masala, dal tadka, 2 phulkas, rice and ... read more',\n",
       "       'Enjoy a delicious meal with  bhindi masala,  dal tadka, 2 phulkas, ... read more',\n",
       "       'Enjoy a delicious meal with dal tadka, dry veggie of the day, 2 ... read more',\n",
       "       'Enjoy a delicious meal with aloo gobhi, dal tadka, 2 phulkas, rice, sweet. ... read more',\n",
       "       'Enjoy a delicious meal with paneer masala, dal tadka, 2 phulkas, rice and ... read more',\n",
       "       'Treat yourself with delicious bhindi Masala, aloo gobhi, dal tadka, 2 phulka, rice ... read more',\n",
       "       'Enjoy a wholesome thali meal with paneer masala, dry veggie of the day, ... read more',\n",
       "       '2 gobhi parathas, curd, sweet, salad and pickle. Amazing for one.',\n",
       "       '2 paneer parathas, curd, sweet, salad and pickle. Amazing for one.',\n",
       "       'Enjoy a delicious meal of paneer paratha(1 piece), aloo paratha(1 piece), paneer masala, ... read more',\n",
       "       'Enjoy a delicious meal with  bhindi masala,  dal tadka, 2 phulkas, ... read more',\n",
       "       'Yummy bowl of dal tadka with steamy hot rice and a refreshing bottle ... read more',\n",
       "       'Yummy bowl of paneer masala with steamy hot rice and a refreshing bottle ... read more',\n",
       "       'Paneer masala(250 ml), dry veggie(250 ml), dal tadka(250 ml), 4 phulkas, rice, 2 ... read more',\n",
       "       'A semi dry sabzi with bhindi cooked in a traditional onion tomato gravy. ... read more',\n",
       "       'A dry north Indian sabzi with aloo gobhi tossed in basic Indian spices ... read more',\n",
       "       'Fresh paneer tossed in vooshified onion tomato gravy with rich Indian spices and ... read more',\n",
       "       'Wheat chapattis - soft, fluffy and cooked to perfection.',\n",
       "       'Fresh, aromatic and steamy hot.',\n",
       "       'Freshly made with crispy cucumber garnishing.',\n",
       "       'Fresh carrot, cucumber, tomato and aromatic coriander garnishing.',\n",
       "       'Fun fact-The idea of having a dessert at the end of a meal ... read more',\n",
       "       'Refreshing butter milk prepared out of quality curd and Indian spices added to ... read more'],\n",
       "      dtype=object)"
      ]
     },
     "execution_count": 3,
     "metadata": {},
     "output_type": "execute_result"
    }
   ],
   "source": [
    "text = np.array(data['DESCRIPTION'])\n",
    "text"
   ]
  },
  {
   "cell_type": "code",
   "execution_count": 4,
   "id": "superior-daisy",
   "metadata": {},
   "outputs": [],
   "source": [
    "words = []\n",
    "for t in text:\n",
    "    words.extend(t.split(\" \"))"
   ]
  },
  {
   "cell_type": "code",
   "execution_count": 5,
   "id": "moral-legislation",
   "metadata": {},
   "outputs": [],
   "source": [
    "df = pd.DataFrame({\n",
    "    \"WORDS\": words\n",
    "})"
   ]
  },
  {
   "cell_type": "code",
   "execution_count": 6,
   "id": "economic-montreal",
   "metadata": {},
   "outputs": [
    {
     "data": {
      "text/html": [
       "<div>\n",
       "<style scoped>\n",
       "    .dataframe tbody tr th:only-of-type {\n",
       "        vertical-align: middle;\n",
       "    }\n",
       "\n",
       "    .dataframe tbody tr th {\n",
       "        vertical-align: top;\n",
       "    }\n",
       "\n",
       "    .dataframe thead th {\n",
       "        text-align: right;\n",
       "    }\n",
       "</style>\n",
       "<table border=\"1\" class=\"dataframe\">\n",
       "  <thead>\n",
       "    <tr style=\"text-align: right;\">\n",
       "      <th></th>\n",
       "      <th>WORDS</th>\n",
       "    </tr>\n",
       "  </thead>\n",
       "  <tbody>\n",
       "    <tr>\n",
       "      <th>0</th>\n",
       "      <td>Fresh</td>\n",
       "    </tr>\n",
       "    <tr>\n",
       "      <th>1</th>\n",
       "      <td>paneer</td>\n",
       "    </tr>\n",
       "    <tr>\n",
       "      <th>2</th>\n",
       "      <td>tossed</td>\n",
       "    </tr>\n",
       "    <tr>\n",
       "      <th>3</th>\n",
       "      <td>in</td>\n",
       "    </tr>\n",
       "    <tr>\n",
       "      <th>4</th>\n",
       "      <td>vooshified</td>\n",
       "    </tr>\n",
       "    <tr>\n",
       "      <th>5</th>\n",
       "      <td>onion</td>\n",
       "    </tr>\n",
       "    <tr>\n",
       "      <th>6</th>\n",
       "      <td>tomato</td>\n",
       "    </tr>\n",
       "    <tr>\n",
       "      <th>7</th>\n",
       "      <td>gravy</td>\n",
       "    </tr>\n",
       "    <tr>\n",
       "      <th>8</th>\n",
       "      <td>with</td>\n",
       "    </tr>\n",
       "    <tr>\n",
       "      <th>9</th>\n",
       "      <td>rich</td>\n",
       "    </tr>\n",
       "  </tbody>\n",
       "</table>\n",
       "</div>"
      ],
      "text/plain": [
       "        WORDS\n",
       "0       Fresh\n",
       "1      paneer\n",
       "2      tossed\n",
       "3          in\n",
       "4  vooshified\n",
       "5       onion\n",
       "6      tomato\n",
       "7       gravy\n",
       "8        with\n",
       "9        rich"
      ]
     },
     "execution_count": 6,
     "metadata": {},
     "output_type": "execute_result"
    }
   ],
   "source": [
    "df.head(10)"
   ]
  },
  {
   "cell_type": "code",
   "execution_count": 7,
   "id": "historic-athens",
   "metadata": {},
   "outputs": [
    {
     "data": {
      "text/plain": [
       "more         22\n",
       "read         22\n",
       "...          22\n",
       "with         19\n",
       "a            17\n",
       "             ..\n",
       "4             1\n",
       "Freshly       1\n",
       "coriander     1\n",
       "added         1\n",
       "fact-The      1\n",
       "Name: WORDS, Length: 109, dtype: int64"
      ]
     },
     "execution_count": 7,
     "metadata": {},
     "output_type": "execute_result"
    }
   ],
   "source": [
    "count = df['WORDS'].value_counts()\n",
    "count"
   ]
  },
  {
   "cell_type": "code",
   "execution_count": 8,
   "id": "aquatic-spare",
   "metadata": {},
   "outputs": [],
   "source": [
    "# deleting \"... read more\" because they appear in most parts and dont make any sense.\n",
    "count = count.drop(labels=[\"more\", \"read\", \"...\"])"
   ]
  },
  {
   "cell_type": "code",
   "execution_count": 9,
   "id": "ignored-duplicate",
   "metadata": {},
   "outputs": [
    {
     "data": {
      "text/plain": [
       "with         19\n",
       "a            17\n",
       "and          13\n",
       "2            13\n",
       "meal         13\n",
       "Enjoy        12\n",
       "dal          12\n",
       "delicious    11\n",
       "of           10\n",
       "paneer       10\n",
       "Name: WORDS, dtype: int64"
      ]
     },
     "execution_count": 9,
     "metadata": {},
     "output_type": "execute_result"
    }
   ],
   "source": [
    "count.head(10)"
   ]
  },
  {
   "cell_type": "code",
   "execution_count": 10,
   "id": "according-effects",
   "metadata": {},
   "outputs": [],
   "source": [
    "count = count.head(10)"
   ]
  },
  {
   "cell_type": "markdown",
   "id": "orange-machine",
   "metadata": {},
   "source": [
    "## 3. Data Visualization"
   ]
  },
  {
   "cell_type": "code",
   "execution_count": 12,
   "id": "arranged-patent",
   "metadata": {},
   "outputs": [],
   "source": [
    "import matplotlib.pyplot as plt"
   ]
  },
  {
   "cell_type": "code",
   "execution_count": 13,
   "id": "global-moment",
   "metadata": {},
   "outputs": [
    {
     "data": {
      "text/plain": [
       "Text(0, 0.5, 'frequency')"
      ]
     },
     "execution_count": 13,
     "metadata": {},
     "output_type": "execute_result"
    },
    {
     "data": {
      "image/png": "[encoded data removed]",
      "text/plain": [
       "<Figure size 432x288 with 1 Axes>"
      ]
     },
     "metadata": {
      "needs_background": "light"
     },
     "output_type": "display_data"
    }
   ],
   "source": [
    "count.plot.bar()\n",
    "plt.xlabel('WORDS')\n",
    "plt.ylabel('frequency')"
   ]
  },
  {
   "cell_type": "markdown",
   "id": "periodic-sister",
   "metadata": {},
   "source": [
    "#### From the above visualization we can conclude that \"meal\" appears highest number of times (ignoring with,a,and, 2 as they dont make any sense) after that \"Enjoy\", \"dal\" and \"delicious\" appear pretty frequently"
   ]
  }
 ],
 "metadata": {
  "kernelspec": {
   "display_name": "Python 3",
   "language": "python",
   "name": "python3"
  },
  "language_info": {
   "codemirror_mode": {
    "name": "ipython",
    "version": 3
   },
   "file_extension": ".py",
   "mimetype": "text/x-python",
   "name": "python",
   "nbconvert_exporter": "python",
   "pygments_lexer": "ipython3",
   "version": "3.8.2"
  }
 },
 "nbformat": 4,
 "nbformat_minor": 5
}
